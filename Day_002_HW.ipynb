{
 "cells": [
  {
   "cell_type": "markdown",
   "metadata": {},
   "source": [
    "## [作業目標]\n",
    "了解機器學習適合應用的領域與範疇。"
   ]
  },
  {
   "cell_type": "markdown",
   "metadata": {},
   "source": [
    "## [作業重點]\n",
    "透過瞭解機器學習的運作方式，找出非常適用機器學習應用的領域及其原因"
   ]
  },
  {
   "cell_type": "markdown",
   "metadata": {},
   "source": [
    "## 作業\n",
    "請找出一個你認為機器學習可以發光發熱的領域並闡述原因? "
   ]
  },
  {
   "cell_type": "code",
   "execution_count": null,
   "metadata": {},
   "outputs": [],
   "source": [
    "   零售業-無人商店。\n",
    "    消費購買行為是簡單、重複性高&明確的行為。且其中有許多適合機器學習的技術輔助，如:\n",
    "   1.透過影像辨識技術可收集&分析客戶購買資訊 -> 透過數據預測並引進適合的新商品提升銷量 \n",
    "   2.商品辨識結合自動化技術 可達成無人商店目標 -> 24 小時營業，不需考量人事成本及相關管理需求。\n",
    "   3.語言翻譯 -> 讓商店國際化，各國人來店購物不須擔心語言問題。\n",
    "   4.情緒分析 -> 透過人臉辨識及其他影像辨識技術來增進客戶消費互動體驗。\n",
    "   "
   ]
  }
 ],
 "metadata": {
  "kernelspec": {
   "display_name": "Python 3",
   "language": "python",
   "name": "python3"
  },
  "language_info": {
   "codemirror_mode": {
    "name": "ipython",
    "version": 3
   },
   "file_extension": ".py",
   "mimetype": "text/x-python",
   "name": "python",
   "nbconvert_exporter": "python",
   "pygments_lexer": "ipython3",
   "version": "3.7.4"
  }
 },
 "nbformat": 4,
 "nbformat_minor": 2
}
